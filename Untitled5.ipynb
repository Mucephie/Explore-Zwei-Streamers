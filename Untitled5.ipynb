{
  "nbformat": 4,
  "nbformat_minor": 0,
  "metadata": {
    "colab": {
      "name": "Untitled5.ipynb",
      "provenance": [],
      "authorship_tag": "ABX9TyNdbWpzcGKu0MBVBYpcx78j",
      "include_colab_link": true
    },
    "kernelspec": {
      "name": "python3",
      "display_name": "Python 3"
    },
    "language_info": {
      "name": "python"
    }
  },
  "cells": [
    {
      "cell_type": "markdown",
      "metadata": {
        "id": "view-in-github",
        "colab_type": "text"
      },
      "source": [
        "<a href=\"https://colab.research.google.com/github/Mucephie/Explore-Zwei-Streamers/blob/main/Untitled5.ipynb\" target=\"_parent\"><img src=\"https://colab.research.google.com/assets/colab-badge.svg\" alt=\"Open In Colab\"/></a>"
      ]
    },
    {
      "cell_type": "code",
      "source": [
        "import numpy as np \n",
        "import matplotlib.pyplot as plt \n",
        "from scipy.integrate import solve_ivp \n",
        "import astropy.units as un\n",
        "import astropy.constants as cnst\n",
        "import profile as pf\n",
        "\n",
        "## additional imports\n",
        "from astropy.cosmology import LambdaCDM\n",
        "cosmo = LambdaCDM(H0=70, Om0=0.3, Ode0=0.7) \n",
        "\n",
        "import sympy\n",
        "from sympy import symbols\n",
        "\n",
        "\n",
        "rho_crit = 3 * cosmo.H(0)**2 / (8 * np.pi * cnst.G)\n",
        "\n",
        "class NFWProfile():\n",
        "    def __init__(self, r_s, rho_s):\n",
        "        self.r_s = r_s\n",
        "        self.rho_s = rho_s # properly define this, should I use rho_0?\n",
        "       \n",
        "        self.M = None\n",
        "        self.mass_profile = None\n",
        "\n",
        "        self.potential_profile = None\n",
        "\n",
        "        # self.c = 10 # 10 to 15 for mw via wikipedia, concentration parameter\n",
        "        # self.R_vir = None # R_vir = c * r_s \n",
        "        # self.r_max = None\n",
        "\n",
        "        self.r_200 = None\n",
        "        self.m_200 = None\n",
        "\n",
        "    def density(self, r):\n",
        "        return self.rho_s / ((r / self.r_s)**1 * (1 + (r / self.r_s))**(3 - 1))\n",
        "\n",
        "    def mass(self, r = None, set = False):\n",
        "        if r == None:\n",
        "            if self.r_200 != None:\n",
        "                r = self.r_200\n",
        "            else:\n",
        "                self.set_200()\n",
        "                r = self.r_200\n",
        "        if set:\n",
        "            self.mass_profile = 4 * np.pi * self.rho_s * self.r_s**3 * (np.log((self.r_s + r) / self.r_s)  + (self.r_s / (self.r_s + r) - 1))\n",
        "        else:\n",
        "            return 4 * np.pi * self.rho_s * self.r_s**3 * (np.log((self.r_s + r)/self.r_s)  + (self.r_s/(self.r_s + r) - 1))\n",
        "\n",
        "    def r_when(self, rho): # TODO\n",
        "        r= symbols('r', real = True)\n",
        "        expr = (self.rho_s / rho).value / ((r) * (1 + (r ))**(2)) # ((sympy.sqrt(r)*(1 + r**2)) / sympy.sqrt((self.rho_s / rho).value))\n",
        "        print('soving...')\n",
        "        rr_s = sympy.solve(sympy.Eq(expr, 1), r)\n",
        "        # print('ratio of r/r_s: ', rr_s) # rr_s = r / self.r_s\n",
        "        return rr_s * self.r_s\n",
        "        \n",
        "    def set_200(self):\n",
        "        rho_crit = (3 * cosmo.H(0)**2 / (8 * np.pi * cnst.G)).to(un.Msun / un.pc**3)\n",
        "        self.r_200 = self.r_when(200 * rho_crit).to(un.kpc)\n",
        "        self.m_200 = (100 * self.r_200**3 * cosmo.H(0)**2 / cnst.G).to(un.Msun)\n",
        "\n",
        "    def potential(self, r, set = False):\n",
        "        if set:\n",
        "            self.potential_profile = ((4 * np.pi * cnst.G * self.rho_s * self.r_s**3) / r) * np.log(1 + (r / self.r_s))\n",
        "        else:\n",
        "            return ((4 * np.pi * cnst.G * self.rho_s * self.r_s**3) / r) * np.log(1 + (r / self.r_s))\n",
        "    \n",
        "    \n",
        "\n",
        "# Defining the ODEs \n",
        "G= 4.541*10**-30\n",
        "k = 1 \n",
        "f_DM = 1 # for simplicity\n",
        "r_s   = 8.9  * un.kpc # 8.8 , 8.1 Pal5/Schonrich2010\n",
        "m     = 6E11 * un.Msun\n",
        "rho_s = 0.11 * un.Msun / (un.pc)**3 # 0.11\n",
        "r     = np.logspace(-3, 1.5, 256) * un.kpc\n",
        "# prop = pf.McMillanProfile(r_s = 15 * un.kpc, rho_s = 0.011 * un.Msun / (un.pc)**3 )\n",
        "nfwp  = NFWProfile(r_s = r_s, rho_s = rho_s)\n",
        "r = 15 * un.kpc\n",
        "rho = nfwp.density(r) # cant be greater than 0.02 for around sun\n",
        "print('stream DM density: ', rho)\n",
        "print('local density: ', nfwp.density(8.8 * un.kpc))\n",
        "nfwp.set_200()\n",
        "print('mass: ', (nfwp.m_200 / 10**11).value[0], ' x 10^11 Msun, radius: ',  nfwp.r_200.value[0], ' kpc')\n",
        "t = np.linspace(0, 12 * 10E7, int(10E6)) # * un.Gyr cnst.G\n",
        "\n",
        "GG = cnst.G.to(un.pc**3 / (un.Msun * un.yr**2))\n",
        "# print(GG)\n",
        "\n",
        "def f(t, y): \n",
        "    vel, width = y \n",
        "    #make sure input and output units match\n",
        "\n",
        "    vel = vel * un.km / un.s\n",
        "    width = width * un.pc\n",
        "    t = t * un.yr\n",
        "    \n",
        "    # unless t and width can beat out truncation error VVV this wont work\n",
        "    x = (2*np.pi*GG*k*rho*f_DM)**2 * t * width # look into  units\n",
        "    # should vel be delta vel?\n",
        "    z = 2 * np.sqrt(width**2 * vel) # look into units \n",
        "\n",
        "    fx = np.array((x.value, z.value))\n",
        "    return fx\n",
        "\n",
        "\n",
        "# need units for width\n",
        "sol = solve_ivp(f, [0, 12 * 10E7], [0.0000000000001, 1200], t_eval = t)\n",
        "velocity = sol.y[0]\n",
        "width = sol.y[1]\n",
        "tt = sol.t\n",
        "\n",
        "fig, ax = plt.subplots(1, 2)\n",
        "ax1, ax2 = ax[0], ax[1]\n",
        "\n",
        "ax1.semilogy((tt * un.yr).to(un.Gyr), velocity, label = 'velocity dispersion ')\n",
        "ax1.set_xlabel('time (Gyr)')\n",
        "ax1.set_ylabel('velocity')\n",
        "\n",
        "ax2.semilogy((tt * un.yr).to(un.Gyr), width, label = 'width dispersion')\n",
        "ax2.set_xlabel('time (Gyr)')\n",
        "ax2.set_ylabel('width')\n",
        "\n",
        "plt.legend()\n",
        "plt.show()"
      ],
      "metadata": {
        "colab": {
          "base_uri": "https://localhost:8080/",
          "height": 353
        },
        "id": "xfXDjixP1k5N",
        "outputId": "1d728666-cea7-40b4-c396-589e20babefa"
      },
      "execution_count": 5,
      "outputs": [
        {
          "output_type": "stream",
          "name": "stdout",
          "text": [
            "stream DM density:  0.009050564007399496 solMass / pc3\n",
            "local density:  0.02812765329247661 solMass / pc3\n",
            "soving...\n",
            "mass:  2.86130531112309  x 10^11 Msun, radius:  135.928253427261  kpc\n"
          ]
        },
        {
          "output_type": "display_data",
          "data": {
            "text/plain": [
              "<Figure size 432x288 with 2 Axes>"
            ],
            "image/png": "[encoded data removed]"
          },
          "metadata": {
            "needs_background": "light"
          }
        }
      ]
    },
    {
      "cell_type": "code",
      "source": [
        ""
      ],
      "metadata": {
        "id": "TYz_XxwE3q7R"
      },
      "execution_count": null,
      "outputs": []
    }
  ]
}