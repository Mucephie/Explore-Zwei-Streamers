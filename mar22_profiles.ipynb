{
 "cells": [
  {
   "cell_type": "code",
   "execution_count": null,
   "metadata": {},
   "outputs": [
    {
     "ename": "",
     "evalue": "",
     "output_type": "error",
     "traceback": [
      "\u001b[1;31mFailed to start the Kernel. \n",
      "Kernel Python 3.9.7 64-bit is not usable. Check the Jupyter output tab for more information. \n",
      "View Jupyter <a href='command:jupyter.viewOutput'>log</a> for further details."
     ]
    }
   ],
   "source": [
    "import profile as pf\n",
    "\n",
    "import numpy as np\n",
    "import matplotlib.pyplot as plt\n",
    "\n",
    "from astropy import units as un\n",
    "from astropy import constants as cnst"
   ]
  },
  {
   "cell_type": "code",
   "execution_count": null,
   "metadata": {},
   "outputs": [],
   "source": [
    "r_s   = 8.8  * un.kpc\n",
    "v_h   = 220  * un.km / un.sec\n",
    "m     = 6E11 * un.Msun\n",
    "rho_s = 1    * un.Msun / (un.pc)**3\n",
    "r     = np.logspace(-3, 1.1, 256) * un.kpc\n",
    "\n",
    "gp    = pf.McMillanProfile(r_s = r_s, rhos_s = rho_s, v_h = v_h)\n",
    "\n",
    "density = gp.density(r)"
   ]
  },
  {
   "cell_type": "code",
   "execution_count": null,
   "metadata": {},
   "outputs": [],
   "source": [
    "plt.semilogy(r, density, label = 'NFW') # semilogx\n",
    "\n",
    "plt.legend()\n",
    "plt.xlabel(r'radius ($kpc$)')\n",
    "plt.ylabel(r'mass density ($M_{sol}/{\\rm pc}^{3}$)')"
   ]
  }
 ],
 "metadata": {
  "interpreter": {
   "hash": "916dbcbb3f70747c44a77c7bcd40155683ae19c65e1c03b4aa3499c5328201f1"
  },
  "kernelspec": {
   "display_name": "Python 3.9.7 64-bit",
   "language": "python",
   "name": "python3"
  },
  "language_info": {
   "name": "python",
   "version": "3.9.7"
  },
  "orig_nbformat": 4
 },
 "nbformat": 4,
 "nbformat_minor": 2
}
